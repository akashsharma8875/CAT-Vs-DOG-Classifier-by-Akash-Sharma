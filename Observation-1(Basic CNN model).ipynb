{
 "cells": [
  {
   "cell_type": "markdown",
   "metadata": {},
   "source": [
    "# Observation-1"
   ]
  },
  {
   "cell_type": "markdown",
   "metadata": {},
   "source": [
    "## Basic CNN Model"
   ]
  },
  {
   "cell_type": "code",
   "execution_count": null,
   "metadata": {
    "colab": {
     "base_uri": "https://localhost:8080/"
    },
    "id": "iF2qBWFokk6J",
    "outputId": "f790e8f4-dafe-4e0c-b56d-fc19c3417257"
   },
   "outputs": [
    {
     "name": "stdout",
     "output_type": "stream",
     "text": [
      "Drive already mounted at /content/drive; to attempt to forcibly remount, call drive.mount(\"/content/drive\", force_remount=True).\n"
     ]
    }
   ],
   "source": [
    "from google.colab import drive\n",
    "drive.mount('/content/drive')\n"
   ]
  },
  {
   "cell_type": "code",
   "execution_count": null,
   "metadata": {
    "colab": {
     "base_uri": "https://localhost:8080/",
     "height": 35
    },
    "id": "0rex30c7knwZ",
    "outputId": "d6cf7c66-ad51-4f67-99a2-676277767e1c"
   },
   "outputs": [
    {
     "data": {
      "application/vnd.google.colaboratory.intrinsic+json": {
       "type": "string"
      },
      "text/plain": [
       "'/content'"
      ]
     },
     "execution_count": 11,
     "metadata": {},
     "output_type": "execute_result"
    }
   ],
   "source": [
    "import tensorflow as tf\n",
    "import pandas as pd\n",
    "import matplotlib.pyplot as plt\n",
    "import numpy as np\n",
    "tf.__version__\n",
    "import os\n",
    "from keras.preprocessing.image import ImageDataGenerator\n",
    "os. getcwd()"
   ]
  },
  {
   "cell_type": "code",
   "execution_count": null,
   "metadata": {
    "colab": {
     "base_uri": "https://localhost:8080/",
     "height": 35
    },
    "id": "EXEnmtU1lohj",
    "outputId": "7a89f964-0f73-4179-b463-2d5931e1486f"
   },
   "outputs": [
    {
     "data": {
      "application/vnd.google.colaboratory.intrinsic+json": {
       "type": "string"
      },
      "text/plain": [
       "'/content'"
      ]
     },
     "execution_count": 12,
     "metadata": {},
     "output_type": "execute_result"
    }
   ],
   "source": [
    "os. getcwd()"
   ]
  },
  {
   "cell_type": "code",
   "execution_count": null,
   "metadata": {
    "colab": {
     "base_uri": "https://localhost:8080/"
    },
    "id": "QzKam325mJ-V",
    "outputId": "8337f431-87fc-4b6d-8600-d6410909e64a"
   },
   "outputs": [
    {
     "name": "stdout",
     "output_type": "stream",
     "text": [
      "Found 20050 images belonging to 2 classes.\n"
     ]
    }
   ],
   "source": [
    "train_datagen=ImageDataGenerator(\n",
    "    rescale=1./255,\n",
    "    shear_range=0.2,\n",
    "    zoom_range=0.2,\n",
    "    horizontal_flip=True)\n",
    "training_set = train_datagen.flow_from_directory(\n",
    "    '/content/drive/MyDrive/Deep Learning Dataset - Cat vs Dog Classifier/dog-cat-full-dataset-master/dog-cat-full-dataset-master/data/train',\n",
    "    target_size=(64, 64),\n",
    "    batch_size=32,\n",
    "    class_mode='binary')"
   ]
  },
  {
   "cell_type": "code",
   "execution_count": null,
   "metadata": {
    "colab": {
     "base_uri": "https://localhost:8080/"
    },
    "id": "8iPOKxKVtOOp",
    "outputId": "934370b5-6b60-4676-b628-f1c45f7c9940"
   },
   "outputs": [
    {
     "name": "stdout",
     "output_type": "stream",
     "text": [
      "Found 5000 images belonging to 2 classes.\n"
     ]
    }
   ],
   "source": [
    "test_datagen = ImageDataGenerator(rescale=1./255)\n",
    "test_set = test_datagen.flow_from_directory(\n",
    "        '/content/drive/MyDrive/Deep Learning Dataset - Cat vs Dog Classifier/dog-cat-full-dataset-master/dog-cat-full-dataset-master/data/test',\n",
    "        target_size=(64, 64),\n",
    "        batch_size=32,\n",
    "        class_mode='binary')"
   ]
  },
  {
   "cell_type": "code",
   "execution_count": null,
   "metadata": {
    "id": "K4Rl7NSAqbyx"
   },
   "outputs": [],
   "source": [
    "#building the CNN\n",
    "#initialising the CNN\n",
    "cnn=tf.keras.models.Sequential()\n",
    "#convolutional layer prepration(First layer prepration)\n",
    "cnn.add(tf.keras.layers.Conv2D(filters=32, kernel_size=3, activation='relu', input_shape=[64,64,3]))\n",
    "#pooling process\n",
    "cnn.add(tf.keras.layers.MaxPool2D(pool_size=2, strides=2))\n",
    "#adding a second convolutional layer\n",
    "cnn.add(tf.keras.layers.Conv2D(filters=32, kernel_size=3, activation='relu'))\n",
    "cnn.add(tf.keras.layers.MaxPool2D(pool_size=2, strides=2))\n",
    "#falttening\n",
    "cnn.add(tf.keras.layers.Flatten())\n",
    "#full conncetion\n",
    "cnn.add(tf.keras.layers.Dense(units=128, activation='relu'))\n",
    "#Output layer\n",
    "cnn.add(tf.keras.layers.Dense(units=1, activation='sigmoid'))"
   ]
  },
  {
   "cell_type": "code",
   "execution_count": null,
   "metadata": {
    "colab": {
     "base_uri": "https://localhost:8080/"
    },
    "id": "-Id-jfwyqpD3",
    "outputId": "066fa7d0-769d-4d8d-e12e-3493b734917b"
   },
   "outputs": [
    {
     "name": "stdout",
     "output_type": "stream",
     "text": [
      "Epoch 1/25\n",
      "627/627 [==============================] - 682s 1s/step - loss: 0.6101 - accuracy: 0.6633 - val_loss: 0.5850 - val_accuracy: 0.6842\n",
      "Epoch 2/25\n",
      "627/627 [==============================] - 206s 329ms/step - loss: 0.5286 - accuracy: 0.7372 - val_loss: 0.4667 - val_accuracy: 0.7794\n",
      "Epoch 3/25\n",
      "627/627 [==============================] - 207s 330ms/step - loss: 0.4826 - accuracy: 0.7672 - val_loss: 0.5213 - val_accuracy: 0.7388\n",
      "Epoch 4/25\n",
      "627/627 [==============================] - 206s 329ms/step - loss: 0.4561 - accuracy: 0.7829 - val_loss: 0.4319 - val_accuracy: 0.8052\n",
      "Epoch 5/25\n",
      "627/627 [==============================] - 206s 329ms/step - loss: 0.4345 - accuracy: 0.7978 - val_loss: 0.4100 - val_accuracy: 0.8094\n",
      "Epoch 6/25\n",
      "627/627 [==============================] - 206s 328ms/step - loss: 0.4152 - accuracy: 0.8082 - val_loss: 0.4223 - val_accuracy: 0.8048\n",
      "Epoch 7/25\n",
      "627/627 [==============================] - 205s 327ms/step - loss: 0.4014 - accuracy: 0.8124 - val_loss: 0.4082 - val_accuracy: 0.8152\n",
      "Epoch 8/25\n",
      "627/627 [==============================] - 205s 327ms/step - loss: 0.3786 - accuracy: 0.8283 - val_loss: 0.3995 - val_accuracy: 0.8256\n",
      "Epoch 9/25\n",
      "627/627 [==============================] - 205s 327ms/step - loss: 0.3683 - accuracy: 0.8327 - val_loss: 0.4077 - val_accuracy: 0.8178\n",
      "Epoch 10/25\n",
      "627/627 [==============================] - 210s 335ms/step - loss: 0.3525 - accuracy: 0.8431 - val_loss: 0.4080 - val_accuracy: 0.8254\n",
      "Epoch 11/25\n",
      "627/627 [==============================] - 209s 333ms/step - loss: 0.3410 - accuracy: 0.8472 - val_loss: 0.3983 - val_accuracy: 0.8216\n",
      "Epoch 12/25\n",
      "627/627 [==============================] - 208s 331ms/step - loss: 0.3245 - accuracy: 0.8580 - val_loss: 0.3840 - val_accuracy: 0.8356\n",
      "Epoch 13/25\n",
      "627/627 [==============================] - 209s 333ms/step - loss: 0.3117 - accuracy: 0.8623 - val_loss: 0.4066 - val_accuracy: 0.8222\n",
      "Epoch 14/25\n",
      "627/627 [==============================] - 207s 330ms/step - loss: 0.2967 - accuracy: 0.8739 - val_loss: 0.3885 - val_accuracy: 0.8368\n",
      "Epoch 15/25\n",
      "627/627 [==============================] - 208s 332ms/step - loss: 0.2903 - accuracy: 0.8735 - val_loss: 0.4495 - val_accuracy: 0.8106\n",
      "Epoch 16/25\n",
      "627/627 [==============================] - 208s 332ms/step - loss: 0.2831 - accuracy: 0.8791 - val_loss: 0.4056 - val_accuracy: 0.8296\n",
      "Epoch 17/25\n",
      "627/627 [==============================] - 210s 334ms/step - loss: 0.2688 - accuracy: 0.8873 - val_loss: 0.4179 - val_accuracy: 0.8316\n",
      "Epoch 18/25\n",
      "627/627 [==============================] - 210s 334ms/step - loss: 0.2570 - accuracy: 0.8919 - val_loss: 0.4005 - val_accuracy: 0.8438\n",
      "Epoch 19/25\n",
      "627/627 [==============================] - 210s 335ms/step - loss: 0.2439 - accuracy: 0.8981 - val_loss: 0.4271 - val_accuracy: 0.8196\n",
      "Epoch 20/25\n",
      "627/627 [==============================] - 211s 337ms/step - loss: 0.2358 - accuracy: 0.8988 - val_loss: 0.4315 - val_accuracy: 0.8304\n",
      "Epoch 21/25\n",
      "627/627 [==============================] - 218s 347ms/step - loss: 0.2283 - accuracy: 0.9043 - val_loss: 0.4270 - val_accuracy: 0.8324\n",
      "Epoch 22/25\n",
      "627/627 [==============================] - 215s 343ms/step - loss: 0.2141 - accuracy: 0.9126 - val_loss: 0.4558 - val_accuracy: 0.8266\n",
      "Epoch 23/25\n",
      "627/627 [==============================] - 210s 335ms/step - loss: 0.2087 - accuracy: 0.9140 - val_loss: 0.4597 - val_accuracy: 0.8294\n",
      "Epoch 24/25\n",
      "627/627 [==============================] - 209s 333ms/step - loss: 0.1931 - accuracy: 0.9223 - val_loss: 0.4854 - val_accuracy: 0.8344\n",
      "Epoch 25/25\n",
      "627/627 [==============================] - 209s 334ms/step - loss: 0.1917 - accuracy: 0.9220 - val_loss: 0.4460 - val_accuracy: 0.8372\n"
     ]
    },
    {
     "data": {
      "text/plain": [
       "<keras.callbacks.History at 0x7fad10553c10>"
      ]
     },
     "execution_count": 16,
     "metadata": {},
     "output_type": "execute_result"
    }
   ],
   "source": [
    "#compiling the CNN\n",
    "cnn.compile(optimizer='adam', loss='binary_crossentropy', metrics=['accuracy'])\n",
    "#training the CNN on training set and evalating on the test set\n",
    "cnn.fit(x=training_set, validation_data=test_set, epochs=25)"
   ]
  },
  {
   "cell_type": "code",
   "execution_count": null,
   "metadata": {
    "id": "1taFOpiZsjID"
   },
   "outputs": [],
   "source": [
    "from keras.preprocessing import image\n",
    "test_image=image.load_img('/content/drive/MyDrive/single_prediction/cat_or_dog_1.jpg', target_size=(64, 64))\n",
    "test_image=image.img_to_array(test_image)\n",
    "test_image=np.expand_dims(test_image, axis=0)\n",
    "result=cnn.predict(test_image)\n",
    "training_set.class_indices\n",
    "if result[0][0]==1:\n",
    "    prediction='dog'\n",
    "else:\n",
    "    prediction='cat'"
   ]
  },
  {
   "cell_type": "code",
   "execution_count": null,
   "metadata": {
    "colab": {
     "base_uri": "https://localhost:8080/"
    },
    "id": "3GGxsl2NU2fD",
    "outputId": "545b54dc-8a17-4a47-845f-6961fc2df1b3"
   },
   "outputs": [
    {
     "name": "stdout",
     "output_type": "stream",
     "text": [
      "dog\n"
     ]
    }
   ],
   "source": [
    "print(prediction)"
   ]
  },
  {
   "cell_type": "code",
   "execution_count": null,
   "metadata": {
    "id": "XZxCvq1MVmr-"
   },
   "outputs": [],
   "source": [
    "test_image=image.load_img('/content/drive/MyDrive/single_prediction/cat.220.jpg', target_size=(64, 64))\n",
    "test_image=image.img_to_array(test_image)\n",
    "test_image=np.expand_dims(test_image, axis=0)\n",
    "result=cnn.predict(test_image)\n",
    "training_set.class_indices\n",
    "if result[0][0]==1:\n",
    "    prediction='dog'\n",
    "else:\n",
    "    prediction='cat'"
   ]
  },
  {
   "cell_type": "code",
   "execution_count": null,
   "metadata": {
    "colab": {
     "base_uri": "https://localhost:8080/"
    },
    "id": "f7--zd_PVwYz",
    "outputId": "0232e04b-e5e3-44f2-b40c-95eba2f24457"
   },
   "outputs": [
    {
     "name": "stdout",
     "output_type": "stream",
     "text": [
      "cat\n"
     ]
    }
   ],
   "source": [
    "print(prediction)"
   ]
  },
  {
   "cell_type": "code",
   "execution_count": null,
   "metadata": {
    "id": "ZgJBVFr1VyJc"
   },
   "outputs": [],
   "source": [
    "test_image=image.load_img('/content/drive/MyDrive/single_prediction/dog.169.jpg', target_size=(64, 64))\n",
    "test_image=image.img_to_array(test_image)\n",
    "test_image=np.expand_dims(test_image, axis=0)\n",
    "result=cnn.predict(test_image)\n",
    "training_set.class_indices\n",
    "if result[0][0]==1:\n",
    "    prediction='dog'\n",
    "else:\n",
    "    prediction='cat'"
   ]
  },
  {
   "cell_type": "code",
   "execution_count": null,
   "metadata": {
    "colab": {
     "base_uri": "https://localhost:8080/"
    },
    "id": "0PTYwGQqX2Tn",
    "outputId": "fb7916fb-0817-4af7-a368-4265fe5aa764"
   },
   "outputs": [
    {
     "name": "stdout",
     "output_type": "stream",
     "text": [
      "dog\n"
     ]
    }
   ],
   "source": [
    "print(prediction)"
   ]
  }
 ],
 "metadata": {
  "colab": {
   "collapsed_sections": [],
   "name": "Cat VS Dog Classifier.ipynb",
   "provenance": []
  },
  "kernelspec": {
   "display_name": "Python 3",
   "language": "python",
   "name": "python3"
  },
  "language_info": {
   "codemirror_mode": {
    "name": "ipython",
    "version": 3
   },
   "file_extension": ".py",
   "mimetype": "text/x-python",
   "name": "python",
   "nbconvert_exporter": "python",
   "pygments_lexer": "ipython3",
   "version": "3.8.3"
  }
 },
 "nbformat": 4,
 "nbformat_minor": 1
}
